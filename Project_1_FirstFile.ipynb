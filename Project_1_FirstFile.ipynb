{
 "cells": [
  {
   "cell_type": "code",
   "execution_count": 25,
   "metadata": {},
   "outputs": [
    {
     "data": {
      "text/plain": [
       "True"
      ]
     },
     "execution_count": 25,
     "metadata": {},
     "output_type": "execute_result"
    }
   ],
   "source": [
    "# Import libraries and dependencies\n",
    "from urllib.request import urlopen\n",
    "import pandas as pd\n",
    "import json\n",
    "import os\n",
    "\n",
    "# Load .env environment variables\n",
    "from dotenv import load_dotenv\n",
    "load_dotenv()"
   ]
  },
  {
   "cell_type": "code",
   "execution_count": 26,
   "metadata": {},
   "outputs": [],
   "source": [
    "#set the fmp API key\n",
    "fmp_api_key = os.getenv(\"FMP_API\")"
   ]
  },
  {
   "cell_type": "code",
   "execution_count": 30,
   "metadata": {},
   "outputs": [
    {
     "name": "stdin",
     "output_type": "stream",
     "text": [
      "Input Ticker Symbol 1: aapl\n"
     ]
    },
    {
     "name": "stdout",
     "output_type": "stream",
     "text": [
      "aapl\n"
     ]
    },
    {
     "name": "stdin",
     "output_type": "stream",
     "text": [
      "Input Ticker Symbol 2: msft\n"
     ]
    },
    {
     "name": "stdout",
     "output_type": "stream",
     "text": [
      "msft\n"
     ]
    }
   ],
   "source": [
    "ticker_input_1 = input(\"Input Ticker Symbol 1:\")\n",
    "print(ticker_input_1)\n",
    "\n",
    "ticker_input_2 = input(\"Input Ticker Symbol 2:\")\n",
    "print(ticker_input_2)"
   ]
  },
  {
   "cell_type": "code",
   "execution_count": 28,
   "metadata": {},
   "outputs": [
    {
     "data": {
      "text/html": [
       "<div>\n",
       "<style scoped>\n",
       "    .dataframe tbody tr th:only-of-type {\n",
       "        vertical-align: middle;\n",
       "    }\n",
       "\n",
       "    .dataframe tbody tr th {\n",
       "        vertical-align: top;\n",
       "    }\n",
       "\n",
       "    .dataframe thead th {\n",
       "        text-align: right;\n",
       "    }\n",
       "</style>\n",
       "<table border=\"1\" class=\"dataframe\">\n",
       "  <thead>\n",
       "    <tr style=\"text-align: right;\">\n",
       "      <th></th>\n",
       "      <th>Net Profit Margin</th>\n",
       "      <th>Current Ratio</th>\n",
       "      <th>Debt to Capitalization</th>\n",
       "      <th>Free Cash Flow Per Share</th>\n",
       "    </tr>\n",
       "  </thead>\n",
       "  <tbody>\n",
       "    <tr>\n",
       "      <th>2020-06-30</th>\n",
       "      <td>0.309625</td>\n",
       "      <td>2.515765</td>\n",
       "      <td>0.606745</td>\n",
       "      <td>5.944021</td>\n",
       "    </tr>\n",
       "    <tr>\n",
       "      <th>2019-06-30</th>\n",
       "      <td>0.311817</td>\n",
       "      <td>2.528839</td>\n",
       "      <td>0.648899</td>\n",
       "      <td>4.986316</td>\n",
       "    </tr>\n",
       "    <tr>\n",
       "      <th>2018-06-30</th>\n",
       "      <td>0.150154</td>\n",
       "      <td>2.900800</td>\n",
       "      <td>0.701144</td>\n",
       "      <td>4.188571</td>\n",
       "    </tr>\n",
       "    <tr>\n",
       "      <th>2017-06-30</th>\n",
       "      <td>0.235731</td>\n",
       "      <td>2.477273</td>\n",
       "      <td>0.735581</td>\n",
       "      <td>4.050865</td>\n",
       "    </tr>\n",
       "    <tr>\n",
       "      <th>2016-06-30</th>\n",
       "      <td>0.196882</td>\n",
       "      <td>2.352882</td>\n",
       "      <td>0.672010</td>\n",
       "      <td>3.152303</td>\n",
       "    </tr>\n",
       "  </tbody>\n",
       "</table>\n",
       "</div>"
      ],
      "text/plain": [
       "            Net Profit Margin  Current Ratio  Debt to Capitalization  \\\n",
       "2020-06-30           0.309625       2.515765                0.606745   \n",
       "2019-06-30           0.311817       2.528839                0.648899   \n",
       "2018-06-30           0.150154       2.900800                0.701144   \n",
       "2017-06-30           0.235731       2.477273                0.735581   \n",
       "2016-06-30           0.196882       2.352882                0.672010   \n",
       "\n",
       "            Free Cash Flow Per Share  \n",
       "2020-06-30                  5.944021  \n",
       "2019-06-30                  4.986316  \n",
       "2018-06-30                  4.188571  \n",
       "2017-06-30                  4.050865  \n",
       "2016-06-30                  3.152303  "
      ]
     },
     "execution_count": 28,
     "metadata": {},
     "output_type": "execute_result"
    }
   ],
   "source": [
    "# main contents of url needed to retrieve the ratio data\n",
    "str_url = \"https://financialmodelingprep.com/api/v3/ratios/\"\n",
    "\n",
    "#ticker, will need to edit to allow for user input (also, if a ticker isn't found or input correctly, what will we produce)\n",
    "ticker_1 = ticker_input_1.upper()\n",
    "\n",
    "# API key content need for url\n",
    "api_key = \"?apikey=\" + fmp_api_key\n",
    "\n",
    "# function to retrieve the data and produce in a dictionary\n",
    "def get_jsonparsed_data(url):\n",
    "    response = urlopen(url)\n",
    "    data = response.read().decode(\"utf-8\")\n",
    "    return json.loads(data)\n",
    "\n",
    "# url broken out \n",
    "url = str_url + ticker_1 + api_key\n",
    "ratio_data = get_jsonparsed_data(url)\n",
    "\n",
    "# call date (NOTE: the API calls the date as of the last fiscal quarter reported to the public and provides on an annualized basis - the API returns data all the way back to the public listing)\n",
    "date_1 = ratio_data[0]['date']\n",
    "date_2 = ratio_data[1]['date']\n",
    "date_3 = ratio_data[2]['date']\n",
    "date_4 = ratio_data[3]['date']\n",
    "date_5 = ratio_data[4]['date']\n",
    "\n",
    "# profitability ratio/indicator (NOTE: I used a profitability metric here, but here could go more horizontal to calculate YoY growth in revenue or net income, would need to maybe check out mor on the other API offerings)\n",
    "# change to Net Operating Margin or Gross Profit?\n",
    "net_profit_margin_1 = ratio_data[0]['netProfitMargin']\n",
    "net_profit_margin_2 = ratio_data[1]['netProfitMargin']\n",
    "net_profit_margin_3 = ratio_data[2]['netProfitMargin']\n",
    "net_profit_margin_4 = ratio_data[3]['netProfitMargin']\n",
    "net_profit_margin_5 = ratio_data[4]['netProfitMargin']\n",
    "\n",
    "# liquidity ratio/indicator\n",
    "current_ratio_1 = ratio_data[0]['currentRatio']\n",
    "current_ratio_2 = ratio_data[1]['currentRatio']\n",
    "current_ratio_3 = ratio_data[2]['currentRatio']\n",
    "current_ratio_4 = ratio_data[3]['currentRatio']\n",
    "current_ratio_5 = ratio_data[4]['currentRatio']\n",
    "\n",
    "# leverage ratio/indicator\n",
    "total_debt_to_capitalization_1 = ratio_data[0]['totalDebtToCapitalization']\n",
    "total_debt_to_capitalization_2 = ratio_data[1]['totalDebtToCapitalization']\n",
    "total_debt_to_capitalization_3 = ratio_data[2]['totalDebtToCapitalization']\n",
    "total_debt_to_capitalization_4 = ratio_data[3]['totalDebtToCapitalization']\n",
    "total_debt_to_capitalization_5 = ratio_data[4]['totalDebtToCapitalization']\n",
    "\n",
    "# cash flow ratio/indicator\n",
    "free_cash_flow_per_share_1 = ratio_data[0]['freeCashFlowPerShare']\n",
    "free_cash_flow_per_share_2 = ratio_data[1]['freeCashFlowPerShare']\n",
    "free_cash_flow_per_share_3 = ratio_data[2]['freeCashFlowPerShare']\n",
    "free_cash_flow_per_share_4 = ratio_data[3]['freeCashFlowPerShare']\n",
    "free_cash_flow_per_share_5 = ratio_data[4]['freeCashFlowPerShare']\n",
    "\n",
    "# Two carry away notes from above: 1: include a YoY growth (revenue) metric (or just improvement in the ratios)?, 2: may be fun to include the market sentiment chart from quandl (this would be a universal metrica and not unique to individuals stocks, but could still play into the \"buy\" recommendation)\n",
    "fin_analysis_df = pd.DataFrame({\n",
    "    'Net Profit Margin': [net_profit_margin_1, net_profit_margin_2, net_profit_margin_3, net_profit_margin_4, net_profit_margin_5],\n",
    "    'Current Ratio': [current_ratio_1, current_ratio_2, current_ratio_3, current_ratio_4, current_ratio_5],\n",
    "    'Debt to Capitalization': [total_debt_to_capitalization_1, total_debt_to_capitalization_2, total_debt_to_capitalization_3, total_debt_to_capitalization_4, total_debt_to_capitalization_5],\n",
    "    'Free Cash Flow Per Share': [free_cash_flow_per_share_1, free_cash_flow_per_share_2, free_cash_flow_per_share_3, free_cash_flow_per_share_4, free_cash_flow_per_share_5]},\n",
    "    index=[date_1, date_2, date_3, date_4, date_5])\n",
    "\n",
    "fin_analysis_df"
   ]
  },
  {
   "cell_type": "code",
   "execution_count": null,
   "metadata": {},
   "outputs": [],
   "source": []
  }
 ],
 "metadata": {
  "kernelspec": {
   "display_name": "Python 3",
   "language": "python",
   "name": "python3"
  },
  "language_info": {
   "codemirror_mode": {
    "name": "ipython",
    "version": 3
   },
   "file_extension": ".py",
   "mimetype": "text/x-python",
   "name": "python",
   "nbconvert_exporter": "python",
   "pygments_lexer": "ipython3",
   "version": "3.7.7"
  }
 },
 "nbformat": 4,
 "nbformat_minor": 4
}
