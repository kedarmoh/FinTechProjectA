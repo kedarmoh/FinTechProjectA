{
 "cells": [
  {
   "cell_type": "code",
   "execution_count": 1,
   "metadata": {},
   "outputs": [
    {
     "data": {
      "text/plain": [
       "True"
      ]
     },
     "execution_count": 1,
     "metadata": {},
     "output_type": "execute_result"
    }
   ],
   "source": [
    "# Import libraries and dependencies\n",
    "from urllib.request import urlopen\n",
    "import requests\n",
    "import pandas as pd\n",
    "import json\n",
    "import os\n",
    "import panel as pn\n",
    "from panel.interact import interact\n",
    "from panel import widgets\n",
    "\n",
    "# Load .env environment variables\n",
    "from dotenv import load_dotenv\n",
    "load_dotenv()"
   ]
  },
  {
   "cell_type": "code",
   "execution_count": 2,
   "metadata": {},
   "outputs": [
    {
     "data": {
      "text/plain": [
       "str"
      ]
     },
     "execution_count": 2,
     "metadata": {},
     "output_type": "execute_result"
    }
   ],
   "source": [
    "# Market Sentinment \n",
    "# Get Quandl API Key for data\n",
    "quandl_api = os.getenv(\"QUANDL_API_KEY\")\n",
    "type(quandl_api)"
   ]
  },
  {
   "cell_type": "code",
   "execution_count": 4,
   "metadata": {},
   "outputs": [],
   "source": [
    "#Quandl AAII Sentiment API\n",
    "url= 'https://www.quandl.com/api/v3/datasets/AAII/AAII_SENTIMENT?api_key=' + quandl_api\n",
    "quandl_url = requests.get(url)\n",
    "sentiment = quandl_url.json()\n",
    "\n",
    "# print(json.dumps(sentiment, indent = 4))"
   ]
  },
  {
   "cell_type": "code",
   "execution_count": 5,
   "metadata": {},
   "outputs": [],
   "source": [
    "# Isolating the relevant data\n",
    "sentiment_columns = sentiment['dataset']['column_names']\n",
    "sentiment_data = sentiment['dataset']['data']"
   ]
  },
  {
   "cell_type": "code",
   "execution_count": 6,
   "metadata": {},
   "outputs": [
    {
     "data": {
      "text/html": [
       "<div>\n",
       "<style scoped>\n",
       "    .dataframe tbody tr th:only-of-type {\n",
       "        vertical-align: middle;\n",
       "    }\n",
       "\n",
       "    .dataframe tbody tr th {\n",
       "        vertical-align: top;\n",
       "    }\n",
       "\n",
       "    .dataframe thead th {\n",
       "        text-align: right;\n",
       "    }\n",
       "</style>\n",
       "<table border=\"1\" class=\"dataframe\">\n",
       "  <thead>\n",
       "    <tr style=\"text-align: right;\">\n",
       "      <th></th>\n",
       "      <th>Date</th>\n",
       "      <th>Bullish</th>\n",
       "      <th>Neutral</th>\n",
       "      <th>Bearish</th>\n",
       "      <th>Total</th>\n",
       "      <th>Bullish 8-Week Mov Avg</th>\n",
       "      <th>Bull-Bear Spread</th>\n",
       "      <th>Bullish Average</th>\n",
       "      <th>Bullish Average + St. Dev</th>\n",
       "      <th>Bullish Average - St. Dev</th>\n",
       "      <th>S&amp;P 500 Weekly High</th>\n",
       "      <th>S&amp;P 500 Weekly Low</th>\n",
       "      <th>S&amp;P 500 Weekly Close</th>\n",
       "    </tr>\n",
       "  </thead>\n",
       "  <tbody>\n",
       "    <tr>\n",
       "      <th>0</th>\n",
       "      <td>2021-01-21</td>\n",
       "      <td>0.425466</td>\n",
       "      <td>0.229814</td>\n",
       "      <td>0.344720</td>\n",
       "      <td>1.0</td>\n",
       "      <td>0.456487</td>\n",
       "      <td>0.080746</td>\n",
       "      <td>0.379569</td>\n",
       "      <td>0.48016</td>\n",
       "      <td>0.278978</td>\n",
       "      <td>3859.75</td>\n",
       "      <td>3749.62</td>\n",
       "      <td>3851.85</td>\n",
       "    </tr>\n",
       "    <tr>\n",
       "      <th>1</th>\n",
       "      <td>2021-01-07</td>\n",
       "      <td>0.451900</td>\n",
       "      <td>0.230800</td>\n",
       "      <td>0.317300</td>\n",
       "      <td>1.0</td>\n",
       "      <td>0.458743</td>\n",
       "      <td>0.134600</td>\n",
       "      <td>0.379569</td>\n",
       "      <td>0.48016</td>\n",
       "      <td>0.278978</td>\n",
       "      <td>3783.04</td>\n",
       "      <td>3662.71</td>\n",
       "      <td>3748.14</td>\n",
       "    </tr>\n",
       "    <tr>\n",
       "      <th>2</th>\n",
       "      <td>2020-12-31</td>\n",
       "      <td>0.460784</td>\n",
       "      <td>0.271242</td>\n",
       "      <td>0.267974</td>\n",
       "      <td>1.0</td>\n",
       "      <td>0.472053</td>\n",
       "      <td>0.192810</td>\n",
       "      <td>0.379569</td>\n",
       "      <td>0.48016</td>\n",
       "      <td>0.278978</td>\n",
       "      <td>3756.12</td>\n",
       "      <td>3676.16</td>\n",
       "      <td>3732.04</td>\n",
       "    </tr>\n",
       "    <tr>\n",
       "      <th>3</th>\n",
       "      <td>2020-12-24</td>\n",
       "      <td>0.435685</td>\n",
       "      <td>0.344398</td>\n",
       "      <td>0.219917</td>\n",
       "      <td>1.0</td>\n",
       "      <td>0.461908</td>\n",
       "      <td>0.215768</td>\n",
       "      <td>0.379569</td>\n",
       "      <td>0.48016</td>\n",
       "      <td>0.278978</td>\n",
       "      <td>3726.70</td>\n",
       "      <td>3636.48</td>\n",
       "      <td>3690.01</td>\n",
       "    </tr>\n",
       "    <tr>\n",
       "      <th>4</th>\n",
       "      <td>2020-12-17</td>\n",
       "      <td>0.434263</td>\n",
       "      <td>0.302789</td>\n",
       "      <td>0.262948</td>\n",
       "      <td>1.0</td>\n",
       "      <td>0.451565</td>\n",
       "      <td>0.171315</td>\n",
       "      <td>0.379569</td>\n",
       "      <td>0.48016</td>\n",
       "      <td>0.278978</td>\n",
       "      <td>3712.39</td>\n",
       "      <td>3633.40</td>\n",
       "      <td>3701.17</td>\n",
       "    </tr>\n",
       "  </tbody>\n",
       "</table>\n",
       "</div>"
      ],
      "text/plain": [
       "         Date   Bullish   Neutral   Bearish  Total  Bullish 8-Week Mov Avg  \\\n",
       "0  2021-01-21  0.425466  0.229814  0.344720    1.0                0.456487   \n",
       "1  2021-01-07  0.451900  0.230800  0.317300    1.0                0.458743   \n",
       "2  2020-12-31  0.460784  0.271242  0.267974    1.0                0.472053   \n",
       "3  2020-12-24  0.435685  0.344398  0.219917    1.0                0.461908   \n",
       "4  2020-12-17  0.434263  0.302789  0.262948    1.0                0.451565   \n",
       "\n",
       "   Bull-Bear Spread  Bullish Average  Bullish Average + St. Dev  \\\n",
       "0          0.080746         0.379569                    0.48016   \n",
       "1          0.134600         0.379569                    0.48016   \n",
       "2          0.192810         0.379569                    0.48016   \n",
       "3          0.215768         0.379569                    0.48016   \n",
       "4          0.171315         0.379569                    0.48016   \n",
       "\n",
       "   Bullish Average - St. Dev  S&P 500 Weekly High  S&P 500 Weekly Low  \\\n",
       "0                   0.278978              3859.75             3749.62   \n",
       "1                   0.278978              3783.04             3662.71   \n",
       "2                   0.278978              3756.12             3676.16   \n",
       "3                   0.278978              3726.70             3636.48   \n",
       "4                   0.278978              3712.39             3633.40   \n",
       "\n",
       "   S&P 500 Weekly Close  \n",
       "0               3851.85  \n",
       "1               3748.14  \n",
       "2               3732.04  \n",
       "3               3690.01  \n",
       "4               3701.17  "
      ]
     },
     "execution_count": 6,
     "metadata": {},
     "output_type": "execute_result"
    }
   ],
   "source": [
    "# Creating the sentiment data frame\n",
    "sentiment_df = pd.DataFrame(sentiment_data, columns = sentiment_columns)\n",
    "sentiment_df.head()"
   ]
  }
 ],
 "metadata": {
  "kernelspec": {
   "display_name": "Python 3",
   "language": "python",
   "name": "python3"
  },
  "language_info": {
   "codemirror_mode": {
    "name": "ipython",
    "version": 3
   },
   "file_extension": ".py",
   "mimetype": "text/x-python",
   "name": "python",
   "nbconvert_exporter": "python",
   "pygments_lexer": "ipython3",
   "version": "3.7.9"
  }
 },
 "nbformat": 4,
 "nbformat_minor": 4
}
