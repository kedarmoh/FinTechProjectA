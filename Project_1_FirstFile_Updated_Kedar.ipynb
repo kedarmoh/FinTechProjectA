{
 "cells": [
  {
   "cell_type": "code",
   "execution_count": 26,
   "metadata": {},
   "outputs": [
    {
     "data": {
      "text/plain": [
       "True"
      ]
     },
     "execution_count": 26,
     "metadata": {},
     "output_type": "execute_result"
    }
   ],
   "source": [
    "# Import libraries and dependencies\n",
    "from urllib.request import urlopen\n",
    "import pandas as pd\n",
    "import json\n",
    "import os\n",
    "import panel as pn\n",
    "from panel.interact import interact\n",
    "from panel import widgets\n",
    "import plotly.express as px\n",
    "import hvplot.pandas\n",
    "import matplotlib.pyplot as plt\n",
    "import math\n",
    "\n",
    "# Load .env environment variables\n",
    "from dotenv import load_dotenv\n",
    "load_dotenv()"
   ]
  },
  {
   "cell_type": "code",
   "execution_count": 27,
   "metadata": {},
   "outputs": [],
   "source": [
    "pn.extension()"
   ]
  },
  {
   "cell_type": "code",
   "execution_count": 28,
   "metadata": {},
   "outputs": [],
   "source": [
    "#set the fmp API key\n",
    "fmp_api_key = os.getenv(\"FMP_API\")"
   ]
  },
  {
   "cell_type": "code",
   "execution_count": 29,
   "metadata": {},
   "outputs": [
    {
     "name": "stdin",
     "output_type": "stream",
     "text": [
      "Input Ticker Symbol # 1 AAPL\n",
      "Input Ticker Symbol # 2 MSFT\n",
      "Input Ticker Symbol # 3 ORCL\n",
      "Input Ticker Symbol # 4 INTC\n",
      "Input Ticker Symbol # 5 AMD\n"
     ]
    },
    {
     "name": "stdout",
     "output_type": "stream",
     "text": [
      "['AAPL', 'MSFT', 'ORCL', 'INTC', 'AMD']\n"
     ]
    }
   ],
   "source": [
    "# list to obtain the stock tickers for 5 companies\n",
    "ticker_list = []\n",
    "\n",
    "# Ask users to provide a list of five ticker symbols\n",
    "# We can extend this to any number by asking user how many stocks he/she wants to compare\n",
    "\n",
    "for  i in range(0, 5):\n",
    "    ticker_input = input(\"Input Ticker Symbol # \" + str(i+1))\n",
    "    #TODO check if this ticker symbol is valid\n",
    "    #TODO check if the symbol is already added, no duplicates allowed.\n",
    "    ticker_list.append(ticker_input)\n",
    "\n",
    "print(ticker_list)"
   ]
  },
  {
   "cell_type": "code",
   "execution_count": 30,
   "metadata": {},
   "outputs": [],
   "source": [
    "# main contents of url needed to retrieve the ratio data\n",
    "str_url = \"https://financialmodelingprep.com/api/v3/ratios/\"\n",
    "\n",
    "# API key content need for url\n",
    "api_key = \"?apikey=\" + fmp_api_key\n",
    "\n",
    "# function to retrieve the data and produce in a dictionary\n",
    "def get_jsonparsed_data(url):\n",
    "    response = urlopen(url)\n",
    "    data = response.read().decode(\"utf-8\")\n",
    "    return json.loads(data)"
   ]
  },
  {
   "cell_type": "code",
   "execution_count": 31,
   "metadata": {},
   "outputs": [],
   "source": [
    "def download_financialdata(stock_ticker):\n",
    "    # url broken out \n",
    "    #ticker_1 = ticker_input_1.upper()\n",
    "    url = str_url + stock_ticker.upper() + api_key\n",
    "    ratio_data_1 = get_jsonparsed_data(url)\n",
    "\n",
    "    # TODO Some of the newer companies might not have data going back 5 years, so we need to check for the value before assigning it , else we will get an \n",
    "    # \"IndexError: list index out of range\" error\n",
    "    # call date (NOTE: the API calls the date as of the last fiscal quarter reported to the public and provides on an annualized basis - the API returns \n",
    "    # data all the way back to the public listing)    \n",
    "    date_1_1 = ratio_data_1[0]['date']\n",
    "    date_2_1 = ratio_data_1[1]['date']\n",
    "    date_3_1 = ratio_data_1[2]['date']\n",
    "    date_4_1 = ratio_data_1[3]['date']\n",
    "    date_5_1 = ratio_data_1[4]['date']\n",
    "\n",
    "    # profitability ratio/indicator (NOTE: I used a profitability metric here, but here could go more horizontal to calculate YoY growth in revenue or net income, would need to maybe check out mor on the other API offerings)\n",
    "    # change to Net Operating Margin or Gross Profit?\n",
    "    net_profit_margin_1_1 = ratio_data_1[0]['netProfitMargin']\n",
    "    net_profit_margin_2_1 = ratio_data_1[1]['netProfitMargin']\n",
    "    net_profit_margin_3_1 = ratio_data_1[2]['netProfitMargin']\n",
    "    net_profit_margin_4_1 = ratio_data_1[3]['netProfitMargin']\n",
    "    net_profit_margin_5_1 = ratio_data_1[4]['netProfitMargin']\n",
    "\n",
    "    # liquidity ratio/indicator\n",
    "    current_ratio_1_1 = ratio_data_1[0]['currentRatio']\n",
    "    current_ratio_2_1 = ratio_data_1[1]['currentRatio']\n",
    "    current_ratio_3_1 = ratio_data_1[2]['currentRatio']\n",
    "    current_ratio_4_1 = ratio_data_1[3]['currentRatio']\n",
    "    current_ratio_5_1 = ratio_data_1[4]['currentRatio']\n",
    "\n",
    "    # leverage ratio/indicator\n",
    "    total_debt_to_capitalization_1_1 = ratio_data_1[0]['totalDebtToCapitalization']\n",
    "    total_debt_to_capitalization_2_1 = ratio_data_1[1]['totalDebtToCapitalization']\n",
    "    total_debt_to_capitalization_3_1 = ratio_data_1[2]['totalDebtToCapitalization']\n",
    "    total_debt_to_capitalization_4_1 = ratio_data_1[3]['totalDebtToCapitalization']\n",
    "    total_debt_to_capitalization_5_1 = ratio_data_1[4]['totalDebtToCapitalization']\n",
    "\n",
    "    # cash flow ratio/indicator\n",
    "    free_cash_flow_per_share_1_1 = ratio_data_1[0]['freeCashFlowPerShare']\n",
    "    free_cash_flow_per_share_2_1 = ratio_data_1[1]['freeCashFlowPerShare']\n",
    "    free_cash_flow_per_share_3_1 = ratio_data_1[2]['freeCashFlowPerShare']\n",
    "    free_cash_flow_per_share_4_1 = ratio_data_1[3]['freeCashFlowPerShare']\n",
    "    free_cash_flow_per_share_5_1 = ratio_data_1[4]['freeCashFlowPerShare']\n",
    "\n",
    "    # Two carry away notes from above: 1: include a YoY growth (revenue) metric (or just improvement in the ratios)?, 2: may be fun to include the market sentiment chart from quandl (this would be a universal metrica and not unique to individuals stocks, but could still play into the \"buy\" recommendation)\n",
    "    fin_analysis_df_1 = pd.DataFrame({\n",
    "        'Net Profit Margin': [net_profit_margin_1_1, net_profit_margin_2_1, net_profit_margin_3_1, net_profit_margin_4_1, net_profit_margin_5_1],\n",
    "        'Current Ratio': [current_ratio_1_1, current_ratio_2_1, current_ratio_3_1, current_ratio_4_1, current_ratio_5_1],\n",
    "        'Debt to Capitalization': [total_debt_to_capitalization_1_1, total_debt_to_capitalization_2_1, total_debt_to_capitalization_3_1, total_debt_to_capitalization_4_1, total_debt_to_capitalization_5_1],\n",
    "        'Free Cash Flow Per Share': [free_cash_flow_per_share_1_1, free_cash_flow_per_share_2_1, free_cash_flow_per_share_3_1, free_cash_flow_per_share_4_1, free_cash_flow_per_share_5_1]},\n",
    "        index=[date_1_1, date_2_1, date_3_1, date_4_1, date_5_1])\n",
    "    \n",
    "     #fin_analysis_df_1\n",
    "    return fin_analysis_df_1"
   ]
  },
  {
   "cell_type": "code",
   "execution_count": 32,
   "metadata": {},
   "outputs": [
    {
     "data": {
      "text/html": [
       "<div>\n",
       "<style scoped>\n",
       "    .dataframe tbody tr th:only-of-type {\n",
       "        vertical-align: middle;\n",
       "    }\n",
       "\n",
       "    .dataframe tbody tr th {\n",
       "        vertical-align: top;\n",
       "    }\n",
       "\n",
       "    .dataframe thead th {\n",
       "        text-align: right;\n",
       "    }\n",
       "</style>\n",
       "<table border=\"1\" class=\"dataframe\">\n",
       "  <thead>\n",
       "    <tr style=\"text-align: right;\">\n",
       "      <th></th>\n",
       "      <th>Net Profit Margin</th>\n",
       "      <th>Current Ratio</th>\n",
       "      <th>Debt to Capitalization</th>\n",
       "      <th>Free Cash Flow Per Share</th>\n",
       "    </tr>\n",
       "    <tr>\n",
       "      <th>Date</th>\n",
       "      <th></th>\n",
       "      <th></th>\n",
       "      <th></th>\n",
       "      <th></th>\n",
       "    </tr>\n",
       "  </thead>\n",
       "  <tbody>\n",
       "    <tr>\n",
       "      <th>2020-09-26</th>\n",
       "      <td>0.209136</td>\n",
       "      <td>1.363604</td>\n",
       "      <td>0.621835</td>\n",
       "      <td>4.301010</td>\n",
       "    </tr>\n",
       "    <tr>\n",
       "      <th>2019-09-28</th>\n",
       "      <td>0.212381</td>\n",
       "      <td>1.540126</td>\n",
       "      <td>0.519384</td>\n",
       "      <td>3.188508</td>\n",
       "    </tr>\n",
       "    <tr>\n",
       "      <th>2018-09-29</th>\n",
       "      <td>0.224142</td>\n",
       "      <td>1.132926</td>\n",
       "      <td>0.496598</td>\n",
       "      <td>3.234920</td>\n",
       "    </tr>\n",
       "    <tr>\n",
       "      <th>2017-09-30</th>\n",
       "      <td>0.210924</td>\n",
       "      <td>1.276063</td>\n",
       "      <td>0.529900</td>\n",
       "      <td>2.434380</td>\n",
       "    </tr>\n",
       "    <tr>\n",
       "      <th>2016-09-24</th>\n",
       "      <td>0.211868</td>\n",
       "      <td>1.352669</td>\n",
       "      <td>0.394426</td>\n",
       "      <td>2.444652</td>\n",
       "    </tr>\n",
       "  </tbody>\n",
       "</table>\n",
       "</div>"
      ],
      "text/plain": [
       "            Net Profit Margin  Current Ratio  Debt to Capitalization  \\\n",
       "Date                                                                   \n",
       "2020-09-26           0.209136       1.363604                0.621835   \n",
       "2019-09-28           0.212381       1.540126                0.519384   \n",
       "2018-09-29           0.224142       1.132926                0.496598   \n",
       "2017-09-30           0.210924       1.276063                0.529900   \n",
       "2016-09-24           0.211868       1.352669                0.394426   \n",
       "\n",
       "            Free Cash Flow Per Share  \n",
       "Date                                  \n",
       "2020-09-26                  4.301010  \n",
       "2019-09-28                  3.188508  \n",
       "2018-09-29                  3.234920  \n",
       "2017-09-30                  2.434380  \n",
       "2016-09-24                  2.444652  "
      ]
     },
     "execution_count": 32,
     "metadata": {},
     "output_type": "execute_result"
    }
   ],
   "source": [
    "fin_analysis_df_1 = download_financialdata(ticker_list[0])\n",
    "fin_analysis_df_1.index.name = \"Date\"\n",
    "fin_analysis_df_1.head(10)"
   ]
  },
  {
   "cell_type": "code",
   "execution_count": 33,
   "metadata": {},
   "outputs": [
    {
     "data": {
      "text/html": [
       "<div>\n",
       "<style scoped>\n",
       "    .dataframe tbody tr th:only-of-type {\n",
       "        vertical-align: middle;\n",
       "    }\n",
       "\n",
       "    .dataframe tbody tr th {\n",
       "        vertical-align: top;\n",
       "    }\n",
       "\n",
       "    .dataframe thead th {\n",
       "        text-align: right;\n",
       "    }\n",
       "</style>\n",
       "<table border=\"1\" class=\"dataframe\">\n",
       "  <thead>\n",
       "    <tr style=\"text-align: right;\">\n",
       "      <th></th>\n",
       "      <th>Net Profit Margin</th>\n",
       "      <th>Current Ratio</th>\n",
       "      <th>Debt to Capitalization</th>\n",
       "      <th>Free Cash Flow Per Share</th>\n",
       "    </tr>\n",
       "    <tr>\n",
       "      <th>Date</th>\n",
       "      <th></th>\n",
       "      <th></th>\n",
       "      <th></th>\n",
       "      <th></th>\n",
       "    </tr>\n",
       "  </thead>\n",
       "  <tbody>\n",
       "    <tr>\n",
       "      <th>2020-06-30</th>\n",
       "      <td>0.309625</td>\n",
       "      <td>2.515765</td>\n",
       "      <td>0.606745</td>\n",
       "      <td>5.944021</td>\n",
       "    </tr>\n",
       "    <tr>\n",
       "      <th>2019-06-30</th>\n",
       "      <td>0.311817</td>\n",
       "      <td>2.528839</td>\n",
       "      <td>0.648899</td>\n",
       "      <td>4.986316</td>\n",
       "    </tr>\n",
       "    <tr>\n",
       "      <th>2018-06-30</th>\n",
       "      <td>0.150154</td>\n",
       "      <td>2.900800</td>\n",
       "      <td>0.701144</td>\n",
       "      <td>4.188571</td>\n",
       "    </tr>\n",
       "    <tr>\n",
       "      <th>2017-06-30</th>\n",
       "      <td>0.235731</td>\n",
       "      <td>2.477273</td>\n",
       "      <td>0.735581</td>\n",
       "      <td>4.050865</td>\n",
       "    </tr>\n",
       "    <tr>\n",
       "      <th>2016-06-30</th>\n",
       "      <td>0.196882</td>\n",
       "      <td>2.352882</td>\n",
       "      <td>0.672010</td>\n",
       "      <td>3.152303</td>\n",
       "    </tr>\n",
       "  </tbody>\n",
       "</table>\n",
       "</div>"
      ],
      "text/plain": [
       "            Net Profit Margin  Current Ratio  Debt to Capitalization  \\\n",
       "Date                                                                   \n",
       "2020-06-30           0.309625       2.515765                0.606745   \n",
       "2019-06-30           0.311817       2.528839                0.648899   \n",
       "2018-06-30           0.150154       2.900800                0.701144   \n",
       "2017-06-30           0.235731       2.477273                0.735581   \n",
       "2016-06-30           0.196882       2.352882                0.672010   \n",
       "\n",
       "            Free Cash Flow Per Share  \n",
       "Date                                  \n",
       "2020-06-30                  5.944021  \n",
       "2019-06-30                  4.986316  \n",
       "2018-06-30                  4.188571  \n",
       "2017-06-30                  4.050865  \n",
       "2016-06-30                  3.152303  "
      ]
     },
     "execution_count": 33,
     "metadata": {},
     "output_type": "execute_result"
    }
   ],
   "source": [
    "fin_analysis_df_2 = download_financialdata(ticker_list[1])\n",
    "fin_analysis_df_2.index.name = \"Date\"\n",
    "fin_analysis_df_2.head(10)"
   ]
  },
  {
   "cell_type": "code",
   "execution_count": 34,
   "metadata": {},
   "outputs": [
    {
     "data": {
      "text/html": [
       "<div>\n",
       "<style scoped>\n",
       "    .dataframe tbody tr th:only-of-type {\n",
       "        vertical-align: middle;\n",
       "    }\n",
       "\n",
       "    .dataframe tbody tr th {\n",
       "        vertical-align: top;\n",
       "    }\n",
       "\n",
       "    .dataframe thead th {\n",
       "        text-align: right;\n",
       "    }\n",
       "</style>\n",
       "<table border=\"1\" class=\"dataframe\">\n",
       "  <thead>\n",
       "    <tr style=\"text-align: right;\">\n",
       "      <th></th>\n",
       "      <th>Net Profit Margin</th>\n",
       "      <th>Current Ratio</th>\n",
       "      <th>Debt to Capitalization</th>\n",
       "      <th>Free Cash Flow Per Share</th>\n",
       "    </tr>\n",
       "    <tr>\n",
       "      <th>Date</th>\n",
       "      <th></th>\n",
       "      <th></th>\n",
       "      <th></th>\n",
       "      <th></th>\n",
       "    </tr>\n",
       "  </thead>\n",
       "  <tbody>\n",
       "    <tr>\n",
       "      <th>2020-05-31</th>\n",
       "      <td>0.259419</td>\n",
       "      <td>3.031395</td>\n",
       "      <td>0.861406</td>\n",
       "      <td>3.604796</td>\n",
       "    </tr>\n",
       "    <tr>\n",
       "      <th>2019-05-31</th>\n",
       "      <td>0.280540</td>\n",
       "      <td>2.489855</td>\n",
       "      <td>0.760000</td>\n",
       "      <td>3.547331</td>\n",
       "    </tr>\n",
       "    <tr>\n",
       "      <th>2018-05-31</th>\n",
       "      <td>0.096031</td>\n",
       "      <td>3.957489</td>\n",
       "      <td>0.689983</td>\n",
       "      <td>3.312303</td>\n",
       "    </tr>\n",
       "    <tr>\n",
       "      <th>2017-05-31</th>\n",
       "      <td>0.247429</td>\n",
       "      <td>3.081934</td>\n",
       "      <td>0.631767</td>\n",
       "      <td>2.941677</td>\n",
       "    </tr>\n",
       "    <tr>\n",
       "      <th>2016-05-31</th>\n",
       "      <td>0.240262</td>\n",
       "      <td>3.737390</td>\n",
       "      <td>0.616680</td>\n",
       "      <td>2.931059</td>\n",
       "    </tr>\n",
       "  </tbody>\n",
       "</table>\n",
       "</div>"
      ],
      "text/plain": [
       "            Net Profit Margin  Current Ratio  Debt to Capitalization  \\\n",
       "Date                                                                   \n",
       "2020-05-31           0.259419       3.031395                0.861406   \n",
       "2019-05-31           0.280540       2.489855                0.760000   \n",
       "2018-05-31           0.096031       3.957489                0.689983   \n",
       "2017-05-31           0.247429       3.081934                0.631767   \n",
       "2016-05-31           0.240262       3.737390                0.616680   \n",
       "\n",
       "            Free Cash Flow Per Share  \n",
       "Date                                  \n",
       "2020-05-31                  3.604796  \n",
       "2019-05-31                  3.547331  \n",
       "2018-05-31                  3.312303  \n",
       "2017-05-31                  2.941677  \n",
       "2016-05-31                  2.931059  "
      ]
     },
     "execution_count": 34,
     "metadata": {},
     "output_type": "execute_result"
    }
   ],
   "source": [
    "fin_analysis_df_3 = download_financialdata(ticker_list[2])\n",
    "fin_analysis_df_3.index.name = \"Date\"\n",
    "fin_analysis_df_3.head(10)"
   ]
  },
  {
   "cell_type": "code",
   "execution_count": 35,
   "metadata": {},
   "outputs": [
    {
     "data": {
      "text/html": [
       "<div>\n",
       "<style scoped>\n",
       "    .dataframe tbody tr th:only-of-type {\n",
       "        vertical-align: middle;\n",
       "    }\n",
       "\n",
       "    .dataframe tbody tr th {\n",
       "        vertical-align: top;\n",
       "    }\n",
       "\n",
       "    .dataframe thead th {\n",
       "        text-align: right;\n",
       "    }\n",
       "</style>\n",
       "<table border=\"1\" class=\"dataframe\">\n",
       "  <thead>\n",
       "    <tr style=\"text-align: right;\">\n",
       "      <th></th>\n",
       "      <th>Net Profit Margin</th>\n",
       "      <th>Current Ratio</th>\n",
       "      <th>Debt to Capitalization</th>\n",
       "      <th>Free Cash Flow Per Share</th>\n",
       "    </tr>\n",
       "    <tr>\n",
       "      <th>Date</th>\n",
       "      <th></th>\n",
       "      <th></th>\n",
       "      <th></th>\n",
       "      <th></th>\n",
       "    </tr>\n",
       "  </thead>\n",
       "  <tbody>\n",
       "    <tr>\n",
       "      <th>2019-12-28</th>\n",
       "      <td>0.292476</td>\n",
       "      <td>1.400224</td>\n",
       "      <td>0.271901</td>\n",
       "      <td>3.833371</td>\n",
       "    </tr>\n",
       "    <tr>\n",
       "      <th>2018-12-29</th>\n",
       "      <td>0.297157</td>\n",
       "      <td>1.731445</td>\n",
       "      <td>0.254504</td>\n",
       "      <td>3.076641</td>\n",
       "    </tr>\n",
       "    <tr>\n",
       "      <th>2017-12-30</th>\n",
       "      <td>0.152977</td>\n",
       "      <td>1.693359</td>\n",
       "      <td>0.264051</td>\n",
       "      <td>2.197830</td>\n",
       "    </tr>\n",
       "    <tr>\n",
       "      <th>2016-12-31</th>\n",
       "      <td>0.173708</td>\n",
       "      <td>1.748990</td>\n",
       "      <td>0.324162</td>\n",
       "      <td>2.575687</td>\n",
       "    </tr>\n",
       "    <tr>\n",
       "      <th>2015-12-26</th>\n",
       "      <td>0.206305</td>\n",
       "      <td>2.449188</td>\n",
       "      <td>0.244583</td>\n",
       "      <td>2.440110</td>\n",
       "    </tr>\n",
       "  </tbody>\n",
       "</table>\n",
       "</div>"
      ],
      "text/plain": [
       "            Net Profit Margin  Current Ratio  Debt to Capitalization  \\\n",
       "Date                                                                   \n",
       "2019-12-28           0.292476       1.400224                0.271901   \n",
       "2018-12-29           0.297157       1.731445                0.254504   \n",
       "2017-12-30           0.152977       1.693359                0.264051   \n",
       "2016-12-31           0.173708       1.748990                0.324162   \n",
       "2015-12-26           0.206305       2.449188                0.244583   \n",
       "\n",
       "            Free Cash Flow Per Share  \n",
       "Date                                  \n",
       "2019-12-28                  3.833371  \n",
       "2018-12-29                  3.076641  \n",
       "2017-12-30                  2.197830  \n",
       "2016-12-31                  2.575687  \n",
       "2015-12-26                  2.440110  "
      ]
     },
     "execution_count": 35,
     "metadata": {},
     "output_type": "execute_result"
    }
   ],
   "source": [
    "fin_analysis_df_4 = download_financialdata(ticker_list[3])\n",
    "fin_analysis_df_4.index.name = \"Date\"\n",
    "fin_analysis_df_4.head(10)"
   ]
  },
  {
   "cell_type": "code",
   "execution_count": 36,
   "metadata": {},
   "outputs": [
    {
     "data": {
      "text/html": [
       "<div>\n",
       "<style scoped>\n",
       "    .dataframe tbody tr th:only-of-type {\n",
       "        vertical-align: middle;\n",
       "    }\n",
       "\n",
       "    .dataframe tbody tr th {\n",
       "        vertical-align: top;\n",
       "    }\n",
       "\n",
       "    .dataframe thead th {\n",
       "        text-align: right;\n",
       "    }\n",
       "</style>\n",
       "<table border=\"1\" class=\"dataframe\">\n",
       "  <thead>\n",
       "    <tr style=\"text-align: right;\">\n",
       "      <th></th>\n",
       "      <th>Net Profit Margin</th>\n",
       "      <th>Current Ratio</th>\n",
       "      <th>Debt to Capitalization</th>\n",
       "      <th>Free Cash Flow Per Share</th>\n",
       "    </tr>\n",
       "    <tr>\n",
       "      <th>Date</th>\n",
       "      <th></th>\n",
       "      <th></th>\n",
       "      <th></th>\n",
       "      <th></th>\n",
       "    </tr>\n",
       "  </thead>\n",
       "  <tbody>\n",
       "    <tr>\n",
       "      <th>2019-12-28</th>\n",
       "      <td>0.050661</td>\n",
       "      <td>1.948707</td>\n",
       "      <td>None</td>\n",
       "      <td>0.246429</td>\n",
       "    </tr>\n",
       "    <tr>\n",
       "      <th>2018-12-29</th>\n",
       "      <td>0.052046</td>\n",
       "      <td>1.784274</td>\n",
       "      <td>None</td>\n",
       "      <td>-0.121241</td>\n",
       "    </tr>\n",
       "    <tr>\n",
       "      <th>2017-12-30</th>\n",
       "      <td>-0.006282</td>\n",
       "      <td>1.740912</td>\n",
       "      <td>None</td>\n",
       "      <td>-0.106092</td>\n",
       "    </tr>\n",
       "    <tr>\n",
       "      <th>2016-12-31</th>\n",
       "      <td>-0.116339</td>\n",
       "      <td>1.879643</td>\n",
       "      <td>None</td>\n",
       "      <td>0.015569</td>\n",
       "    </tr>\n",
       "    <tr>\n",
       "      <th>2015-12-26</th>\n",
       "      <td>-0.165372</td>\n",
       "      <td>1.653599</td>\n",
       "      <td>None</td>\n",
       "      <td>-0.411239</td>\n",
       "    </tr>\n",
       "  </tbody>\n",
       "</table>\n",
       "</div>"
      ],
      "text/plain": [
       "            Net Profit Margin  Current Ratio Debt to Capitalization  \\\n",
       "Date                                                                  \n",
       "2019-12-28           0.050661       1.948707                   None   \n",
       "2018-12-29           0.052046       1.784274                   None   \n",
       "2017-12-30          -0.006282       1.740912                   None   \n",
       "2016-12-31          -0.116339       1.879643                   None   \n",
       "2015-12-26          -0.165372       1.653599                   None   \n",
       "\n",
       "            Free Cash Flow Per Share  \n",
       "Date                                  \n",
       "2019-12-28                  0.246429  \n",
       "2018-12-29                 -0.121241  \n",
       "2017-12-30                 -0.106092  \n",
       "2016-12-31                  0.015569  \n",
       "2015-12-26                 -0.411239  "
      ]
     },
     "execution_count": 36,
     "metadata": {},
     "output_type": "execute_result"
    }
   ],
   "source": [
    "fin_analysis_df_5 = download_financialdata(ticker_list[4])\n",
    "fin_analysis_df_5.index.name = \"Date\"\n",
    "fin_analysis_df_5.head(10)"
   ]
  },
  {
   "cell_type": "code",
   "execution_count": 37,
   "metadata": {},
   "outputs": [
    {
     "data": {
      "text/html": [
       "<div>\n",
       "<style scoped>\n",
       "    .dataframe tbody tr th:only-of-type {\n",
       "        vertical-align: middle;\n",
       "    }\n",
       "\n",
       "    .dataframe tbody tr th {\n",
       "        vertical-align: top;\n",
       "    }\n",
       "\n",
       "    .dataframe thead th {\n",
       "        text-align: right;\n",
       "    }\n",
       "</style>\n",
       "<table border=\"1\" class=\"dataframe\">\n",
       "  <thead>\n",
       "    <tr style=\"text-align: right;\">\n",
       "      <th></th>\n",
       "      <th>Ticker</th>\n",
       "      <th>Net Profit Margin</th>\n",
       "      <th>Current Ratio</th>\n",
       "      <th>Debt to Capitalization</th>\n",
       "      <th>Free Cash Flow Per Share</th>\n",
       "    </tr>\n",
       "  </thead>\n",
       "  <tbody>\n",
       "    <tr>\n",
       "      <th>2020-09-26</th>\n",
       "      <td>AAPL</td>\n",
       "      <td>0.209136</td>\n",
       "      <td>1.363604</td>\n",
       "      <td>0.621835</td>\n",
       "      <td>4.301010</td>\n",
       "    </tr>\n",
       "    <tr>\n",
       "      <th>2020-06-30</th>\n",
       "      <td>MSFT</td>\n",
       "      <td>0.309625</td>\n",
       "      <td>2.515765</td>\n",
       "      <td>0.606745</td>\n",
       "      <td>5.944021</td>\n",
       "    </tr>\n",
       "    <tr>\n",
       "      <th>2020-05-31</th>\n",
       "      <td>ORCL</td>\n",
       "      <td>0.259419</td>\n",
       "      <td>3.031395</td>\n",
       "      <td>0.861406</td>\n",
       "      <td>3.604796</td>\n",
       "    </tr>\n",
       "    <tr>\n",
       "      <th>2019-12-28</th>\n",
       "      <td>INTC</td>\n",
       "      <td>0.292476</td>\n",
       "      <td>1.400224</td>\n",
       "      <td>0.271901</td>\n",
       "      <td>3.833371</td>\n",
       "    </tr>\n",
       "    <tr>\n",
       "      <th>2019-12-28</th>\n",
       "      <td>AMD</td>\n",
       "      <td>0.050661</td>\n",
       "      <td>1.948707</td>\n",
       "      <td>0.000000</td>\n",
       "      <td>0.246429</td>\n",
       "    </tr>\n",
       "  </tbody>\n",
       "</table>\n",
       "</div>"
      ],
      "text/plain": [
       "           Ticker  Net Profit Margin  Current Ratio  Debt to Capitalization  \\\n",
       "2020-09-26   AAPL           0.209136       1.363604                0.621835   \n",
       "2020-06-30   MSFT           0.309625       2.515765                0.606745   \n",
       "2020-05-31   ORCL           0.259419       3.031395                0.861406   \n",
       "2019-12-28   INTC           0.292476       1.400224                0.271901   \n",
       "2019-12-28    AMD           0.050661       1.948707                0.000000   \n",
       "\n",
       "            Free Cash Flow Per Share  \n",
       "2020-09-26                  4.301010  \n",
       "2020-06-30                  5.944021  \n",
       "2020-05-31                  3.604796  \n",
       "2019-12-28                  3.833371  \n",
       "2019-12-28                  0.246429  "
      ]
     },
     "execution_count": 37,
     "metadata": {},
     "output_type": "execute_result"
    }
   ],
   "source": [
    "all_company_df = pd.DataFrame({\n",
    "    'Ticker': ticker_list,\n",
    "    'Net Profit Margin': [fin_analysis_df_1[\"Net Profit Margin\"][0], fin_analysis_df_2[\"Net Profit Margin\"][0], fin_analysis_df_3[\"Net Profit Margin\"][0], fin_analysis_df_4[\"Net Profit Margin\"][0], fin_analysis_df_5[\"Net Profit Margin\"][0]],\n",
    "    'Current Ratio':  [fin_analysis_df_1[\"Current Ratio\"][0], fin_analysis_df_2[\"Current Ratio\"][0], fin_analysis_df_3[\"Current Ratio\"][0], fin_analysis_df_4[\"Current Ratio\"][0], fin_analysis_df_5[\"Current Ratio\"][0]],\n",
    "    'Debt to Capitalization':  [fin_analysis_df_1[\"Debt to Capitalization\"][0], fin_analysis_df_2[\"Debt to Capitalization\"][0], fin_analysis_df_3[\"Debt to Capitalization\"][0], fin_analysis_df_4[\"Debt to Capitalization\"][0], fin_analysis_df_5[\"Debt to Capitalization\"][0]],\n",
    "    'Free Cash Flow Per Share': [fin_analysis_df_1[\"Free Cash Flow Per Share\"][0], fin_analysis_df_2[\"Free Cash Flow Per Share\"][0], fin_analysis_df_3[\"Free Cash Flow Per Share\"][0], fin_analysis_df_4[\"Free Cash Flow Per Share\"][0], fin_analysis_df_5[\"Free Cash Flow Per Share\"][0]]},\n",
    "    index=[fin_analysis_df_1.index[0], fin_analysis_df_2.index[0], fin_analysis_df_3.index[0], fin_analysis_df_4.index[0], fin_analysis_df_5.index[0]])\n",
    "\n",
    "all_company_df_final = all_company_df.fillna(0)\n",
    "all_company_df_final"
   ]
  },
  {
   "cell_type": "code",
   "execution_count": 13,
   "metadata": {},
   "outputs": [
    {
     "name": "stdout",
     "output_type": "stream",
     "text": [
      "[[0.20913611278072236, 1.3636044481554577, 0.6218348294642289, 4.30100983595486], [0.25941947373809765, 3.031395348837209, 0.8614063683739296, 3.6047960137028965], [0.3096248645247002, 2.5157654542940118, 0.6067452706318788, 5.944021024967149], [0.2924755089279511, 1.4002241147467502, 0.2719013688355522, 3.833371066334616], [0.05066112019016491, 1.9487070792708774, 0.0, 0.24642857142857144]]\n"
     ]
    }
   ],
   "source": [
    "# initialize lists to run through our ranking function\n",
    "list_ranking_ratios =[]\n",
    "\n",
    "for i in range(0,5):\n",
    "    list_ranking_ratios.append([all_company_df_final.iloc[i][1], all_company_df_final.iloc[i][2], all_company_df_final.iloc[i][3], all_company_df_final.iloc[i][4]])\n",
    "    \n",
    "print(list_ranking_ratios)"
   ]
  },
  {
   "cell_type": "code",
   "execution_count": 14,
   "metadata": {},
   "outputs": [],
   "source": [
    "# Ask the user for input about their risk appetite\n",
    "RiskProfile = [\"Conservative\", \"Balanced\", \"Growth\"]\n",
    "    "
   ]
  },
  {
   "cell_type": "code",
   "execution_count": 38,
   "metadata": {},
   "outputs": [],
   "source": [
    "# define the weighting function (thoughts to consider: negative ratios? null ratios?)\n",
    "# profitability you want to be high, liquidity you want to be high, leverage you want to be low (so subtract), cashflow you want to be high\n",
    "\n",
    "conservative = [0.30,0.15, 0.30, 0.25]\n",
    "balanced = [0.40, 0.25, 0.15, 0.20]\n",
    "growth = [0.35, 0.30, 0.15, 0.20]\n",
    "\n",
    "def weighting_function(ticker_ratio_list, risk_profile):\n",
    "    if risk_profile == \"Conservative\":\n",
    "        weighting_profitability = conservative[0]\n",
    "        weighting_liquidity = conservative[1]\n",
    "        weighting_leverage = conservative[2]\n",
    "        weighting_cashflow = conservative[3]\n",
    "    elif risk_profile == \"Balanced\":\n",
    "        weighting_profitability = balanced[0]\n",
    "        weighting_liquidity = balanced[1]\n",
    "        weighting_leverage = balanced[2]\n",
    "        weighting_cashflow = balanced[3]\n",
    "    elif risk_profile == \"Growth\":\n",
    "        weighting_profitability = growth[0]\n",
    "        weighting_liquidity = growth[1]\n",
    "        weighting_leverage = growth[2]\n",
    "        weighting_cashflow = growth[3]\n",
    "        \n",
    "    element_1 = (ticker_ratio_list[0] * weighting_profitability)\n",
    "    element_2 = (ticker_ratio_list[1] * weighting_liquidity)\n",
    "    element_3 = (ticker_ratio_list[2] * weighting_leverage)\n",
    "    element_4 = (ticker_ratio_list[3] * weighting_cashflow)\n",
    "    output = element_1 + element_2 - element_3 + element_4\n",
    "    return output\n"
   ]
  },
  {
   "cell_type": "code",
   "execution_count": 40,
   "metadata": {},
   "outputs": [
    {
     "data": {},
     "metadata": {},
     "output_type": "display_data"
    },
    {
     "data": {
      "application/vnd.holoviews_exec.v0+json": "",
      "text/html": [
       "<div id='1063'>\n",
       "\n",
       "\n",
       "\n",
       "\n",
       "\n",
       "  <div class=\"bk-root\" id=\"15d37cdf-ffb7-42e1-8757-3490d9ff6c28\" data-root-id=\"1063\"></div>\n",
       "</div>\n",
       "<script type=\"application/javascript\">(function(root) {\n",
       "  function embed_document(root) {\n",
       "    var docs_json = {\"c4ce463a-51ce-4e98-91b9-73236d483574\":{\"roots\":{\"references\":[{\"attributes\":{\"children\":[{\"id\":\"1064\"},{\"id\":\"1066\"}],\"margin\":[0,0,0,0],\"name\":\"Column01542\"},\"id\":\"1063\",\"type\":\"Column\"},{\"attributes\":{\"margin\":[5,10,5,10],\"options\":[\"Conservative\",\"Balanced\",\"Growth\"],\"title\":\"risk_profile\",\"value\":\"Conservative\"},\"id\":\"1065\",\"type\":\"Select\"},{\"attributes\":{\"client_comm_id\":\"f00dd46861ff43c5894599d281c55d1a\",\"comm_id\":\"373c824bffa04aec91bb595359ec49ea\",\"plot_id\":\"1063\"},\"id\":\"1068\",\"type\":\"panel.models.comm_manager.CommManager\"},{\"attributes\":{\"children\":[{\"id\":\"1067\"}],\"margin\":[0,0,0,0],\"name\":\"Row01546\"},\"id\":\"1066\",\"type\":\"Row\"},{\"attributes\":{\"children\":[{\"id\":\"1065\"}],\"margin\":[0,0,0,0],\"name\":\"Column01547\"},\"id\":\"1064\",\"type\":\"Column\"},{\"attributes\":{\"margin\":[5,5,5,5],\"name\":\"interactive01541\",\"text\":\"&lt;table border=&quot;0&quot; class=&quot;dataframe panel-df&quot;&gt;\\n  &lt;thead&gt;\\n    &lt;tr style=&quot;text-align: right;&quot;&gt;\\n      &lt;th&gt;&lt;/th&gt;\\n      &lt;th&gt;Proprietary Value&lt;/th&gt;\\n      &lt;th&gt;Ticker&lt;/th&gt;\\n    &lt;/tr&gt;\\n  &lt;/thead&gt;\\n  &lt;tbody&gt;\\n    &lt;tr&gt;\\n      &lt;th&gt;2&lt;/th&gt;\\n      &lt;td&gt;1.774234&lt;/td&gt;\\n      &lt;td&gt;ORCL&lt;/td&gt;\\n    &lt;/tr&gt;\\n    &lt;tr&gt;\\n      &lt;th&gt;1&lt;/th&gt;\\n      &lt;td&gt;1.175312&lt;/td&gt;\\n      &lt;td&gt;MSFT&lt;/td&gt;\\n    &lt;/tr&gt;\\n    &lt;tr&gt;\\n      &lt;th&gt;3&lt;/th&gt;\\n      &lt;td&gt;1.174549&lt;/td&gt;\\n      &lt;td&gt;INTC&lt;/td&gt;\\n    &lt;/tr&gt;\\n    &lt;tr&gt;\\n      &lt;th&gt;0&lt;/th&gt;\\n      &lt;td&gt;1.155984&lt;/td&gt;\\n      &lt;td&gt;AAPL&lt;/td&gt;\\n    &lt;/tr&gt;\\n    &lt;tr&gt;\\n      &lt;th&gt;4&lt;/th&gt;\\n      &lt;td&gt;0.369112&lt;/td&gt;\\n      &lt;td&gt;AMD&lt;/td&gt;\\n    &lt;/tr&gt;\\n  &lt;/tbody&gt;\\n&lt;/table&gt;\"},\"id\":\"1067\",\"type\":\"panel.models.markup.HTML\"}],\"root_ids\":[\"1063\",\"1068\"]},\"title\":\"Bokeh Application\",\"version\":\"2.2.3\"}};\n",
       "    var render_items = [{\"docid\":\"c4ce463a-51ce-4e98-91b9-73236d483574\",\"root_ids\":[\"1063\"],\"roots\":{\"1063\":\"15d37cdf-ffb7-42e1-8757-3490d9ff6c28\"}}];\n",
       "    root.Bokeh.embed.embed_items_notebook(docs_json, render_items);\n",
       "  }\n",
       "  if (root.Bokeh !== undefined && root.Bokeh.Panel !== undefined) {\n",
       "    embed_document(root);\n",
       "  } else {\n",
       "    var attempts = 0;\n",
       "    var timer = setInterval(function(root) {\n",
       "      if (root.Bokeh !== undefined && root.Bokeh.Panel !== undefined) {\n",
       "        clearInterval(timer);\n",
       "        embed_document(root);\n",
       "      } else if (document.readyState == \"complete\") {\n",
       "        attempts++;\n",
       "        if (attempts > 100) {\n",
       "          clearInterval(timer);\n",
       "          console.log(\"Bokeh: ERROR: Unable to run BokehJS code because BokehJS library is missing\");\n",
       "        }\n",
       "      }\n",
       "    }, 10, root)\n",
       "  }\n",
       "})(window);</script>"
      ],
      "text/plain": [
       "Column\n",
       "    [0] Column\n",
       "        [0] Select(name='risk_profile', options=['Conservative', ...], value='Conservative')\n",
       "    [1] Row\n",
       "        [0] DataFrame(DataFrame, name='interactive01541')"
      ]
     },
     "execution_count": 40,
     "metadata": {
      "application/vnd.holoviews_exec.v0+json": {
       "id": "1063"
      }
     },
     "output_type": "execute_result"
    }
   ],
   "source": [
    "def recommendation(risk_profile):\n",
    "    #Initialize a dataframe\n",
    "    final_ratings = pd.DataFrame()\n",
    "    \n",
    "    for i in range(0,5):\n",
    "        proprietary_value = weighting_function(list_ranking_ratios[i], risk_profile)\n",
    "        # print(proprietary_value)\n",
    "        # print(ticker_list[i])\n",
    "        new_row = {'Ticker':ticker_list[i], 'Proprietary Value':proprietary_value}\n",
    "        final_ratings= final_ratings.append(new_row, ignore_index=True)\n",
    "    final_ratings.head()\n",
    "    return final_ratings.sort_values(\"Proprietary Value\", ascending=False)\n",
    "\n",
    "RiskProfile = ['Conservative', 'Balanced', 'Growth']\n",
    "interact(recommendation, risk_profile=RiskProfile)\n",
    "#recommendation_df.head()"
   ]
  },
  {
   "cell_type": "code",
   "execution_count": 41,
   "metadata": {},
   "outputs": [],
   "source": [
    "# Net Profit Margin Chart\n",
    "def net_profitMargin():\n",
    "    x= all_company_df_final.iloc[:,0]\n",
    "    y = all_company_df_final.iloc[:,1]\n",
    "    #low = min(all_company_df_final.iloc[:,1])\n",
    "    #high = max(all_company_df_final.iloc[:,1])\n",
    "    #plt.ylim([math.ceil(low-0.5*(high-low)), math.ceil(high+0.5*(high-low))])\n",
    "    return plt.bar(x,y)"
   ]
  },
  {
   "cell_type": "code",
   "execution_count": 42,
   "metadata": {},
   "outputs": [
    {
     "data": {
      "text/plain": [
       "<BarContainer object of 5 artists>"
      ]
     },
     "execution_count": 42,
     "metadata": {},
     "output_type": "execute_result"
    },
    {
     "data": {
      "image/png": "[encoded data removed]",
      "text/plain": [
       "<Figure size 432x288 with 1 Axes>"
      ]
     },
     "metadata": {
      "needs_background": "light"
     },
     "output_type": "display_data"
    }
   ],
   "source": [
    "# Current Ratio Chart\n",
    "#def current_ratio():\n",
    "x= all_company_df_final.iloc[:,0]\n",
    "y = all_company_df_final.iloc[:,2]\n",
    "    #low = min(all_company_df_final.iloc[:,2])\n",
    "    #high = max(all_company_df_final.iloc[:,2])\n",
    "    #plt.ylim([math.ceil(low-0.5*(high-low)), math.ceil(high+0.5*(high-low))])\n",
    "plt.bar(x,y)"
   ]
  },
  {
   "cell_type": "code",
   "execution_count": 43,
   "metadata": {},
   "outputs": [
    {
     "data": {
      "text/plain": [
       "<BarContainer object of 5 artists>"
      ]
     },
     "execution_count": 43,
     "metadata": {},
     "output_type": "execute_result"
    },
    {
     "data": {
      "image/png": "[encoded data removed]",
      "text/plain": [
       "<Figure size 432x288 with 1 Axes>"
      ]
     },
     "metadata": {
      "needs_background": "light"
     },
     "output_type": "display_data"
    }
   ],
   "source": [
    "# Debt to Capitalization Ratio Chart\n",
    "#def debt_to_cap():\n",
    "x= all_company_df_final.iloc[:,0]\n",
    "y = all_company_df_final.iloc[:,3]\n",
    "    #low = min(all_company_df_final.iloc[:,3])\n",
    "    #high = max(all_company_df_final.iloc[:,3])\n",
    "    #plt.ylim([math.ceil(low-0.5*(high-low)), math.ceil(high+0.5*(high-low))])\n",
    "plt.bar(x,y)"
   ]
  },
  {
   "cell_type": "code",
   "execution_count": 44,
   "metadata": {},
   "outputs": [
    {
     "data": {
      "text/plain": [
       "<BarContainer object of 5 artists>"
      ]
     },
     "execution_count": 44,
     "metadata": {},
     "output_type": "execute_result"
    },
    {
     "data": {
      "image/png": "[encoded data removed]",
      "text/plain": [
       "<Figure size 432x288 with 1 Axes>"
      ]
     },
     "metadata": {
      "needs_background": "light"
     },
     "output_type": "display_data"
    }
   ],
   "source": [
    "# Free cash flow per share Chart\n",
    "#def free_cashflow():\n",
    "x= all_company_df_final.iloc[:,0]\n",
    "y = all_company_df_final.iloc[:,4]\n",
    "    #low = min(all_company_df_final.iloc[:,4])\n",
    "    #high = max(all_company_df_final.iloc[:,4])\n",
    "    #plt.ylim([math.ceil(low-0.5*(high-low)), math.ceil(high+0.5*(high-low))])\n",
    "plt.bar(x,y)"
   ]
  },
  {
   "cell_type": "code",
   "execution_count": 23,
   "metadata": {},
   "outputs": [
    {
     "data": {},
     "metadata": {},
     "output_type": "display_data"
    },
    {
     "data": {
      "application/vnd.holoviews_exec.v0+json": "",
      "text/html": [
       "<div id='1038'>\n",
       "\n",
       "\n",
       "\n",
       "\n",
       "\n",
       "  <div class=\"bk-root\" id=\"a93d9f7e-4009-4b56-b02c-85cf4c69d8ea\" data-root-id=\"1038\"></div>\n",
       "</div>\n",
       "<script type=\"application/javascript\">(function(root) {\n",
       "  function embed_document(root) {\n",
       "    var docs_json = {\"645ebbcc-17b0-4db8-8cc0-e13929d41151\":{\"roots\":{\"references\":[{\"attributes\":{\"css_classes\":[\"markdown\"],\"margin\":[5,5,5,5],\"name\":\"Markdown01515\",\"text\":\"&lt;h1&gt;Financial Stability based KPIs&lt;/h1&gt;\"},\"id\":\"1044\",\"type\":\"panel.models.markup.HTML\"},{\"attributes\":{\"child\":{\"id\":\"1043\"},\"name\":\"Column01521\",\"title\":\"Financial Stability Metrics\"},\"id\":\"1047\",\"type\":\"Panel\"},{\"attributes\":{\"child\":{\"id\":\"1048\"},\"name\":\"Column01526\",\"title\":\"Cash Flow metrics\"},\"id\":\"1051\",\"type\":\"Panel\"},{\"attributes\":{\"css_classes\":[\"markdown\"],\"margin\":[5,5,5,5],\"name\":\"Markdown01522\",\"text\":\"&lt;h1&gt;Cash FLow based KPIs&lt;/h1&gt;\"},\"id\":\"1049\",\"type\":\"panel.models.markup.HTML\"},{\"attributes\":{\"margin\":[5,5,5,5],\"name\":\"Str01524\",\"text\":\"&lt;pre&gt;&lt;BarContainer object of 5 artists&gt;&lt;/pre&gt;\"},\"id\":\"1050\",\"type\":\"panel.models.markup.HTML\"},{\"attributes\":{\"children\":[{\"id\":\"1040\"},{\"id\":\"1041\"}],\"margin\":[0,0,0,0],\"name\":\"Column01514\"},\"id\":\"1039\",\"type\":\"Column\"},{\"attributes\":{\"children\":[{\"id\":\"1044\"},{\"id\":\"1045\"},{\"id\":\"1046\"}],\"margin\":[0,0,0,0],\"name\":\"Column01521\"},\"id\":\"1043\",\"type\":\"Column\"},{\"attributes\":{\"children\":[{\"id\":\"1049\"},{\"id\":\"1050\"}],\"margin\":[0,0,0,0],\"name\":\"Column01526\"},\"id\":\"1048\",\"type\":\"Column\"},{\"attributes\":{\"css_classes\":[\"markdown\"],\"margin\":[5,5,5,5],\"name\":\"Markdown01510\",\"text\":\"&lt;h1&gt;Operational Efficiency based KPIs&lt;/h1&gt;\"},\"id\":\"1040\",\"type\":\"panel.models.markup.HTML\"},{\"attributes\":{\"child\":{\"id\":\"1039\"},\"name\":\"Column01514\",\"title\":\"Operational Metrics\"},\"id\":\"1042\",\"type\":\"Panel\"},{\"attributes\":{\"margin\":[5,5,5,5],\"name\":\"Str01517\",\"text\":\"&lt;pre&gt;&lt;BarContainer object of 5 artists&gt;&lt;/pre&gt;\"},\"id\":\"1045\",\"type\":\"panel.models.markup.HTML\"},{\"attributes\":{\"client_comm_id\":\"fdcdd0e06a974a96a67737d158138493\",\"comm_id\":\"51066214fb7742989be33d06f32eb1eb\",\"plot_id\":\"1038\"},\"id\":\"1052\",\"type\":\"panel.models.comm_manager.CommManager\"},{\"attributes\":{\"margin\":[5,5,5,5],\"name\":\"Str01512\",\"text\":\"&lt;pre&gt;&lt;BarContainer object of 5 artists&gt;&lt;/pre&gt;\"},\"id\":\"1041\",\"type\":\"panel.models.markup.HTML\"},{\"attributes\":{\"margin\":[5,5,5,5],\"name\":\"Str01519\",\"text\":\"&lt;pre&gt;&lt;BarContainer object of 5 artists&gt;&lt;/pre&gt;\"},\"id\":\"1046\",\"type\":\"panel.models.markup.HTML\"},{\"attributes\":{\"margin\":[0,0,0,0],\"tabs\":[{\"id\":\"1042\"},{\"id\":\"1047\"},{\"id\":\"1051\"}]},\"id\":\"1038\",\"type\":\"Tabs\"}],\"root_ids\":[\"1038\",\"1052\"]},\"title\":\"Bokeh Application\",\"version\":\"2.2.3\"}};\n",
       "    var render_items = [{\"docid\":\"645ebbcc-17b0-4db8-8cc0-e13929d41151\",\"root_ids\":[\"1038\"],\"roots\":{\"1038\":\"a93d9f7e-4009-4b56-b02c-85cf4c69d8ea\"}}];\n",
       "    root.Bokeh.embed.embed_items_notebook(docs_json, render_items);\n",
       "  }\n",
       "  if (root.Bokeh !== undefined && root.Bokeh.Panel !== undefined) {\n",
       "    embed_document(root);\n",
       "  } else {\n",
       "    var attempts = 0;\n",
       "    var timer = setInterval(function(root) {\n",
       "      if (root.Bokeh !== undefined && root.Bokeh.Panel !== undefined) {\n",
       "        clearInterval(timer);\n",
       "        embed_document(root);\n",
       "      } else if (document.readyState == \"complete\") {\n",
       "        attempts++;\n",
       "        if (attempts > 100) {\n",
       "          clearInterval(timer);\n",
       "          console.log(\"Bokeh: ERROR: Unable to run BokehJS code because BokehJS library is missing\");\n",
       "        }\n",
       "      }\n",
       "    }, 10, root)\n",
       "  }\n",
       "})(window);</script>"
      ],
      "text/plain": [
       "Tabs\n",
       "    [0] Column\n",
       "        [0] Markdown(str)\n",
       "        [1] Str(BarContainer)\n",
       "    [1] Column\n",
       "        [0] Markdown(str)\n",
       "        [1] Str(BarContainer)\n",
       "        [2] Str(BarContainer)\n",
       "    [2] Column\n",
       "        [0] Markdown(str)\n",
       "        [1] Str(BarContainer)"
      ]
     },
     "execution_count": 23,
     "metadata": {
      "application/vnd.holoviews_exec.v0+json": {
       "id": "1038"
      }
     },
     "output_type": "execute_result"
    },
    {
     "data": {
      "image/png": "[encoded data removed]",
      "text/plain": [
       "<Figure size 432x288 with 1 Axes>"
      ]
     },
     "metadata": {
      "needs_background": "light"
     },
     "output_type": "display_data"
    }
   ],
   "source": [
    "column_Operations = pn.Column(\n",
    "    '# Operational Efficiency based KPIs',\n",
    "    net_profitMargin()\n",
    ")\n",
    "\n",
    "column_financialstability = pn.Column(\n",
    "    '# Financial Stability based KPIs',\n",
    "    current_ratio(),\n",
    "    debt_to_cap()\n",
    ")\n",
    "\n",
    "column_cashflow = pn.Column(\n",
    "    '# Cash FLow based KPIs',\n",
    "    free_cashflow()\n",
    ")\n",
    "\n",
    "tabs = pn.Tabs(\n",
    "    (\"Operational Metrics\", column_Operations),\n",
    "    (\"Financial Stability Metrics\", column_financialstability),\n",
    "    (\"Cash Flow metrics\", column_cashflow)\n",
    ")\n",
    "tabs"
   ]
  },
  {
   "cell_type": "code",
   "execution_count": null,
   "metadata": {},
   "outputs": [],
   "source": []
  },
  {
   "cell_type": "code",
   "execution_count": null,
   "metadata": {},
   "outputs": [],
   "source": []
  },
  {
   "cell_type": "code",
   "execution_count": null,
   "metadata": {},
   "outputs": [],
   "source": []
  }
 ],
 "metadata": {
  "kernelspec": {
   "display_name": "Python [conda env:pyvizenv] *",
   "language": "python",
   "name": "conda-env-pyvizenv-py"
  },
  "language_info": {
   "codemirror_mode": {
    "name": "ipython",
    "version": 3
   },
   "file_extension": ".py",
   "mimetype": "text/x-python",
   "name": "python",
   "nbconvert_exporter": "python",
   "pygments_lexer": "ipython3",
   "version": "3.7.9"
  }
 },
 "nbformat": 4,
 "nbformat_minor": 4
}
